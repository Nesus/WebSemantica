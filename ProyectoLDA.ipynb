{
 "cells": [
  {
   "cell_type": "markdown",
   "metadata": {},
   "source": [
    "# LDA-RDF Topic Modelling"
   ]
  },
  {
   "cell_type": "code",
   "execution_count": 96,
   "metadata": {
    "collapsed": false
   },
   "outputs": [],
   "source": [
    "from rdflib import Graph\n",
    "from rdflib.namespace import RDF, FOAF\n",
    "\n",
    "import rdflib\n",
    "import urllib"
   ]
  },
  {
   "cell_type": "markdown",
   "metadata": {},
   "source": [
    "### Cargando datos "
   ]
  },
  {
   "cell_type": "code",
   "execution_count": 97,
   "metadata": {
    "collapsed": false
   },
   "outputs": [
    {
     "data": {
      "text/plain": [
       "<Graph identifier=N5d35e0224ea849778dfe6dcdfd3e6332 (<class 'rdflib.graph.Graph'>)>"
      ]
     },
     "execution_count": 97,
     "metadata": {},
     "output_type": "execute_result"
    }
   ],
   "source": [
    "#Se crea un grafo y luego cargamos los valores de prueba\n",
    "g = Graph()\n",
    "g.parse(\"sample.ttl\", format=\"turtle\")"
   ]
  },
  {
   "cell_type": "markdown",
   "metadata": {},
   "source": [
    "### Creando documentos"
   ]
  },
  {
   "cell_type": "code",
   "execution_count": 98,
   "metadata": {
    "collapsed": true
   },
   "outputs": [],
   "source": [
    "def de_uri(uri):\n",
    "    \"\"\"\n",
    "        Función que toma una URI y la convierte en un string.\n",
    "    \"\"\"\n",
    "    return uri.split(\"/\")[-1].replace(\"_\",\" \").split(\"#\")[-1]"
   ]
  },
  {
   "cell_type": "code",
   "execution_count": 103,
   "metadata": {
    "collapsed": false
   },
   "outputs": [],
   "source": [
    "documents = []\n",
    "#Se buscan todas las personas\n",
    "for s in g.subjects(RDF.type, FOAF.Person):\n",
    "    subject = de_uri(s)\n",
    "    \n",
    "    #Se comienza el documento con el nombre del recurso\n",
    "    document = subject\n",
    "    \n",
    "    #Se buscan los triples asociados a ese recurso y se van agregando al documento\n",
    "    for p,o in g.predicate_objects(s):\n",
    "        prop = de_uri(p)\n",
    "        obj = de_uri(o)\n",
    "        document += \" \" + prop + \" \" + obj + \" \"\n",
    "    \n",
    "    #Se agregan a una lista de documentos\n",
    "    documents.append(document)\n",
    "    \n",
    "    \n",
    "    #Guardamos un documento de prueba\n",
    "    if subject == \"August Horch\":\n",
    "        test_document = document"
   ]
  },
  {
   "cell_type": "code",
   "execution_count": 104,
   "metadata": {
    "collapsed": false
   },
   "outputs": [
    {
     "name": "stdout",
     "output_type": "stream",
     "text": [
      "(u'August Horch', u'type', u'Person')\n",
      "(u'August Horch', u'deathPlace', u'M\\xfcnchberg')\n",
      "(u'August Horch', u'birthDate', u'1868-10-12')\n",
      "(u'August Horch', u'birthPlace', u'Rhine Province')\n",
      "(u'August Horch', u'name', u'August Horch')\n",
      "(u'August Horch', u'deathDate', u'1951-02-03')\n",
      "(u'August Horch', u'givenName', u'August')\n",
      "(u'August Horch', u'deathPlace', u'Bavaria')\n",
      "(u'August Horch', u'birthPlace', u'Winningen')\n",
      "(u'August Horch', u'description', u'German engineer and automobile pioneer')\n",
      "(u'August Horch', u'surname', u'Horch')\n",
      "August Horch type Person  deathPlace Münchberg  birthDate 1868-10-12  birthPlace Rhine Province  name August Horch  deathDate 1951-02-03  givenName August  deathPlace Bavaria  birthPlace Winningen  description German engineer and automobile pioneer  surname Horch \n"
     ]
    }
   ],
   "source": [
    "#Un ejemplo de como se ve el documento\n",
    "august = rdflib.term.URIRef(u'http://dbpedia.org/resource/August_Horch')\n",
    "for s,p,o in g.triples((august, None, None)):\n",
    "    subject = de_uri(s)\n",
    "    prop = de_uri(p)\n",
    "    obj = de_uri(o)\n",
    "    print (subject,prop,obj)\n",
    "print test_document"
   ]
  },
  {
   "cell_type": "markdown",
   "metadata": {},
   "source": [
    "## Latent Dirichlet Allocation (LDA)"
   ]
  },
  {
   "cell_type": "code",
   "execution_count": 83,
   "metadata": {
    "collapsed": false
   },
   "outputs": [],
   "source": [
    "from sklearn.feature_extraction.text import CountVectorizer\n",
    "from sklearn.decomposition import LatentDirichletAllocation"
   ]
  }
 ],
 "metadata": {
  "anaconda-cloud": {},
  "kernelspec": {
   "display_name": "Python 2",
   "language": "python",
   "name": "python2"
  },
  "language_info": {
   "codemirror_mode": {
    "name": "ipython",
    "version": 2
   },
   "file_extension": ".py",
   "mimetype": "text/x-python",
   "name": "python",
   "nbconvert_exporter": "python",
   "pygments_lexer": "ipython2",
   "version": "2.7.12"
  }
 },
 "nbformat": 4,
 "nbformat_minor": 1
}
